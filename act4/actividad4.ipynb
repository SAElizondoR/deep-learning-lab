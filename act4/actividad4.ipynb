{
 "cells": [
  {
   "cell_type": "code",
   "execution_count": 81,
   "metadata": {},
   "outputs": [],
   "source": [
    "import numpy as np\n",
    "import matplotlib.pyplot as plt\n",
    "import pandas as pd"
   ]
  },
  {
   "cell_type": "code",
   "execution_count": 77,
   "metadata": {},
   "outputs": [],
   "source": [
    "# Cargar los datos\n",
    "base_path = \"../../BaseLD.xlsx\"\n",
    "data = pd.read_excel(base_path).to_numpy()"
   ]
  },
  {
   "cell_type": "code",
   "execution_count": 78,
   "metadata": {},
   "outputs": [],
   "source": [
    "class KMeans:\n",
    "    def __init__(self, n_clusters, max_iters=100):\n",
    "        self.n_clusters = n_clusters\n",
    "        self.max_iters = max_iters\n",
    "    \n",
    "    def fit(self, X):\n",
    "        # Asignar los centroides aleatoriamente\n",
    "        random_indices = np.random.choice(X.shape[0], self.n_clusters,\n",
    "            replace=False)\n",
    "        self.centroids = X[random_indices]\n",
    "\n",
    "        for _ in range(self.max_iters):\n",
    "            # Calcular las distancias y asignar los núcleos\n",
    "            distances = np.linalg.norm(X[:, np.newaxis] - self.centroids,\n",
    "                axis=2)\n",
    "            self.labels = np.argmin(distances, axis=1)\n",
    "\n",
    "            # Actualizar centroides\n",
    "            new_centroids = np.array([X[self.labels == i].mean(axis=0)\n",
    "                for i in range(self.n_clusters)])\n",
    "            \n",
    "            # Verificar la convergencia\n",
    "            if np.all(self.centroids == new_centroids):\n",
    "                break\n",
    "\n",
    "            self.centroids = new_centroids\n",
    "        \n",
    "        return self.labels"
   ]
  },
  {
   "cell_type": "code",
   "execution_count": 110,
   "metadata": {},
   "outputs": [
    {
     "name": "stdout",
     "output_type": "stream",
     "text": [
      "Cantidad de puntos por etiqueta:\n",
      "Etiqueta 0: 8162 puntos\n",
      "Etiqueta 1: 14642 puntos\n",
      "Etiqueta 2: 4947 puntos\n"
     ]
    }
   ],
   "source": [
    "# Aplicar algoritmo de k medias\n",
    "kmeans = KMeans(n_clusters=3)\n",
    "labels = kmeans.fit(data)\n",
    "\n",
    "# Contar la cantidad de puntos en cada núcleo\n",
    "unique_labels, counts = np.unique(labels, return_counts=True)\n",
    "label_counts = {int(label): int(count)\n",
    "    for label, count in zip(unique_labels, counts)}\n",
    "\n",
    "# Mostrar resultados\n",
    "print(\"Cantidad de puntos por etiqueta:\")\n",
    "for label, count in label_counts.items():\n",
    "    print(f\"Etiqueta {label}: {count} puntos\")"
   ]
  },
  {
   "cell_type": "code",
   "execution_count": 111,
   "metadata": {},
   "outputs": [],
   "source": [
    "class NeuralGas:\n",
    "    def __init__(self, n_nodes=10, learning_rate = 0.1, max_iters=100):\n",
    "        self.n_nodes = n_nodes\n",
    "        self.learning_rate = learning_rate\n",
    "        self.max_iters = max_iters\n",
    "        self.nodes = None\n",
    "    \n",
    "    def train(self, data):\n",
    "        # Asdignar los nodos aleatoriamente\n",
    "        self.nodes = np.random.rand(self.n_nodes, data.shape[1])\n",
    "\n",
    "        for _ in range(self.max_iters):\n",
    "            for x in data:\n",
    "                # Calcular la distancia de x a todos los nodos\n",
    "                distances = np.linalg.norm(self.nodes - x, axis=1)\n",
    "\n",
    "                # Obtener el índice de los nodos en orden de proximidad\n",
    "                sorted_indices = np.argsort(distances)\n",
    "\n",
    "                # Actualizar los nodos según la distancia\n",
    "                for rank, idx in enumerate(sorted_indices):\n",
    "                    # Calcular el factor de aprendizaje\n",
    "                    learning_rate = self.learning_rate * np.exp(-rank / 2)\n",
    "                    self.nodes[idx] += learning_rate * (x - self.nodes[idx])"
   ]
  },
  {
   "cell_type": "code",
   "execution_count": 112,
   "metadata": {},
   "outputs": [],
   "source": [
    "ng = NeuralGas()\n",
    "ng.train(data)"
   ]
  }
 ],
 "metadata": {
  "kernelspec": {
   "display_name": "Python 3",
   "language": "python",
   "name": "python3"
  },
  "language_info": {
   "name": "python",
   "version": "3.12.6"
  }
 },
 "nbformat": 4,
 "nbformat_minor": 2
}
