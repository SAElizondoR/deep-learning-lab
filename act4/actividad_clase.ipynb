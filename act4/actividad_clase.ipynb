{
 "cells": [
  {
   "cell_type": "code",
   "execution_count": 63,
   "metadata": {},
   "outputs": [],
   "source": [
    "import pandas as pd\n",
    "import numpy as np"
   ]
  },
  {
   "cell_type": "code",
   "execution_count": 64,
   "metadata": {},
   "outputs": [
    {
     "name": "stdout",
     "output_type": "stream",
     "text": [
      "[ 80. 100.  96. 100. 100.  97.  96.  72.  98.  77.  98.  96.  80.  71.\n",
      "  98.  69.  77.  81.  98.  83.  64.  66.  72.  80.  78.  91.  79.  97.\n",
      "  89.  99.]\n"
     ]
    }
   ],
   "source": [
    "# Establecer semilla para reproducir el experimento\n",
    "np.random.seed(100)\n",
    "\n",
    "# Definir la ruta de la base de datos\n",
    "base_path = \"../../BaseLD.xlsx\"\n",
    "\n",
    "# Leer el archivo\n",
    "data = pd.read_excel(base_path, sheet_name=0).to_numpy().astype(float)\n",
    "print(data[0])"
   ]
  },
  {
   "cell_type": "code",
   "execution_count": 65,
   "metadata": {},
   "outputs": [
    {
     "name": "stdout",
     "output_type": "stream",
     "text": [
      "27751 30\n"
     ]
    }
   ],
   "source": [
    "# Obtener el número de filas y columnas\n",
    "nrows, ncols = data.shape\n",
    "print(nrows, ncols)"
   ]
  },
  {
   "cell_type": "code",
   "execution_count": 66,
   "metadata": {},
   "outputs": [
    {
     "name": "stdout",
     "output_type": "stream",
     "text": [
      "[18.  8. 29. 18. 23. 18.  8.  8. 23.  3.  2. 18. 18. 18.  8.  8. -2. 18.\n",
      " 18.  3.  3.  3.  8.  3.  3. 18.  8. 13.  3.  8.]\n"
     ]
    }
   ],
   "source": [
    "# Definir las neuronas\n",
    "neuronas = np.array([\n",
    "    np.min(data, axis=0),\n",
    "    np.mean(data, axis=0),\n",
    "    np.max(data, axis=0)])\n",
    "\n",
    "print(neuronas[0])"
   ]
  },
  {
   "cell_type": "code",
   "execution_count": 67,
   "metadata": {},
   "outputs": [],
   "source": [
    "# Definir la matriz de pertenencia y el conteo de núcleos\n",
    "pertenencia = np.zeros(nrows, dtype=int)\n",
    "\n",
    "for k in range(3):\n",
    "    cluster_count = np.zeros(3, dtype=int)\n",
    "    for i in range(nrows):\n",
    "        fila_actual = data[i]\n",
    "\n",
    "        # Calcular la distancia a cada neurona\n",
    "        distancia = np.linalg.norm(neuronas - fila_actual, axis=1)\n",
    "\n",
    "        # Obtener el índice de la neurona más cercana\n",
    "        min_index = np.argmin(distancia)\n",
    "\n",
    "        # Actualizar la neurona y el núcleo correspondientes\n",
    "        eta = 0.5 * (1 - i / nrows)\n",
    "        neuronas[min_index] += eta * (fila_actual - neuronas[min_index])\n",
    "\n",
    "        # Actualizar el conteo de núcleos y la matriz de pertenencia\n",
    "        cluster_count[min_index] += 1\n",
    "        pertenencia[i] = min_index"
   ]
  },
  {
   "cell_type": "code",
   "execution_count": 68,
   "metadata": {},
   "outputs": [],
   "source": [
    "# Exportar neuronas\n",
    "nombre_neurona = [\"Neurona1\", \"Neurona2\", \"Neurona3\"]\n",
    "neuronas_df = pd.DataFrame(neuronas, index=nombre_neurona, columns=[f'Variable_{j+1}' for j in range(ncols)])\n",
    "neuronas_df.reset_index(inplace=True)\n",
    "neuronas_df.to_csv(\"./NEURONAS.csv\", index=False)"
   ]
  },
  {
   "cell_type": "code",
   "execution_count": 69,
   "metadata": {},
   "outputs": [],
   "source": [
    "# Exportar suma promedio\n",
    "suma_promedio = np.mean(neuronas, axis=1)\n",
    "suma_promedio_df = pd.DataFrame({'Nombre_Neurona': nombre_neurona,\n",
    "    'Suma_Promedio': suma_promedio})\n",
    "suma_promedio_df.to_csv(\"./SUMA_PROMEDIO.csv\", index=False)"
   ]
  },
  {
   "cell_type": "code",
   "execution_count": 70,
   "metadata": {},
   "outputs": [],
   "source": [
    "# Exportar conteo de elementos en cada núcleo\n",
    "cluster_df = pd.DataFrame({'Nombre_Neurona': nombre_neurona,\n",
    "    'Elementos_Cluster': cluster_count})\n",
    "cluster_df.to_csv(f\"./TOTAL_ELEMENTOS_CLUSTER.csv\", index=False)"
   ]
  },
  {
   "cell_type": "code",
   "execution_count": 71,
   "metadata": {},
   "outputs": [],
   "source": [
    "# Exportar matriz de pertenencia\n",
    "base_actualizada = np.column_stack((pertenencia, data))\n",
    "base_actualizada_df = pd.DataFrame(base_actualizada, columns=['Pertenencia'] \\\n",
    "    + [f'Variable_{i+1}' for i in range(ncols)])\n",
    "base_actualizada_df.to_csv(f\"./PERTENENCIA.csv\", index=False)"
   ]
  }
 ],
 "metadata": {
  "kernelspec": {
   "display_name": "Python 3",
   "language": "python",
   "name": "python3"
  },
  "language_info": {
   "codemirror_mode": {
    "name": "ipython",
    "version": 3
   },
   "file_extension": ".py",
   "mimetype": "text/x-python",
   "name": "python",
   "nbconvert_exporter": "python",
   "pygments_lexer": "ipython3",
   "version": "3.12.6"
  }
 },
 "nbformat": 4,
 "nbformat_minor": 2
}
